{
 "cells": [
  {
   "cell_type": "markdown",
   "id": "8f15afcf-b8df-4dc4-b5bd-401ca429bdce",
   "metadata": {},
   "source": [
    "# Introduction to OpenSearch\n",
    "\n",
    "A server is available on the cluster for this course. If you really need to you can set up your own server in your local machine. I advise you to use docker: https://opensearch.org/docs/latest/opensearch/install/docker/"
   ]
  },
  {
   "cell_type": "markdown",
   "id": "e74452b2-5e1a-4eb5-9cdd-fd9bc3a3603d",
   "metadata": {},
   "source": [
    "## CURL Connection to server\n"
   ]
  },
  {
   "cell_type": "code",
   "execution_count": 2,
   "id": "4ccb245c-8503-4819-a30c-8ac9e9c6f8b2",
   "metadata": {},
   "outputs": [],
   "source": [
    "import pprint as pp\n",
    "import requests\n",
    "\n",
    "host = '10.10.255.202'\n",
    "port = 8200\n",
    "index_name = 'user220'\n",
    "auth = ('user220', '2Ic{*Ul>/4c4/)pXn+J*B!') # For testing only. Don't store credentials in code.\n",
    "\n",
    "s = requests.Session()\n",
    "s.auth = auth\n",
    "\n",
    "#auth = (index_name, 'zya*xJ!4]n') # For testing only. Don't store credentials in code.\n",
    "ca_certs_path = '/full/path/to/root-ca.pem' # Provide a CA bundle if you use intermediate CAs with your root CA.\n",
    "server_uri = 'https://' + host + ':' + str(port)\n",
    "\n",
    "# function for the cURL requests\n",
    "def opensearch_curl(uri = '/' , body='', verb='get'):\n",
    "    # pass header option for content type if request has a\n",
    "    # body to avoid Content-Type error in Elasticsearch v6.0\n",
    "    \n",
    "    uri = server_uri + uri\n",
    "    print(uri)\n",
    "    headers = {\n",
    "        'Content-Type': 'application/json',\n",
    "    }\n",
    "\n",
    "    try:\n",
    "        # make HTTP verb parameter case-insensitive by converting to lower()\n",
    "        if verb.lower() == \"get\":\n",
    "            resp = s.get(uri, json=body, headers=headers, verify=False)\n",
    "        elif verb.lower() == \"post\":\n",
    "            resp = s.post(uri, json=body, headers=headers, verify=False)\n",
    "        elif verb.lower() == \"put\":\n",
    "            resp = s.put(uri, json=body, headers=headers, verify=False)\n",
    "        elif verb.lower() == \"del\":\n",
    "                resp = s.delete(uri, json=body, headers=headers, verify=False)\n",
    "        elif verb.lower() == \"head\":\n",
    "                resp = s.head(uri, json=body, headers=headers, verify=False)\n",
    "\n",
    "        # read the text object string\n",
    "        try:\n",
    "            resp_text = json.loads(resp.text)\n",
    "        except:\n",
    "            resp_text = resp.text\n",
    "\n",
    "        # catch exceptions and print errors to terminal\n",
    "    except Exception as error:\n",
    "        print ('\\nelasticsearch_curl() error:', error)\n",
    "        resp_text = error\n",
    "\n",
    "    # return the Python dict of the request\n",
    "    return resp_text\n"
   ]
  },
  {
   "cell_type": "markdown",
   "id": "7b7b4b34-d8bb-4915-ba1c-501fbba2c7fc",
   "metadata": {},
   "source": [
    "## OpenSearch Python API\n",
    "\n",
    "A short introduction is available here:\n",
    "https://opensearch.org/docs/1.1/clients/python/\n"
   ]
  },
  {
   "cell_type": "code",
   "execution_count": 4,
   "id": "2ab294c0-0e26-4dfc-917c-dfe4b89e26c8",
   "metadata": {},
   "outputs": [
    {
     "name": "stdout",
     "output_type": "stream",
     "text": [
      "\n",
      "----------------------------------------------------------------------------------- INDEX SETTINGS\n",
      "{'user220': {'settings': {'index': {'creation_date': '1647384285322',\n",
      "                                    'knn': 'true',\n",
      "                                    'number_of_replicas': '0',\n",
      "                                    'number_of_shards': '4',\n",
      "                                    'provided_name': 'user220',\n",
      "                                    'refresh_interval': '1s',\n",
      "                                    'uuid': 'xEy7XhsRQXu008Supzqjag',\n",
      "                                    'version': {'created': '135238227'}}}}}\n",
      "\n",
      "----------------------------------------------------------------------------------- INDEX MAPPINGS\n",
      "{'user220': {'mappings': {'properties': {'contents': {'similarity': 'BM25',\n",
      "                                                      'type': 'text'},\n",
      "                                         'id': {'type': 'keyword'},\n",
      "                                         'sentence_embedding': {'model_id': 'model_kwiz',\n",
      "                                                                'type': 'knn_vector'}}}}}\n",
      "\n",
      "----------------------------------------------------------------------------------- INDEX #DOCs\n",
      "{'count': 0, '_shards': {'total': 4, 'successful': 4, 'skipped': 0, 'failed': 0}}\n"
     ]
    }
   ],
   "source": [
    "import pprint as pp\n",
    "from opensearchpy import OpenSearch\n",
    "from opensearchpy import helpers\n",
    "\n",
    "# Optional client certificates if you don't want to use HTTP basic authentication.\n",
    "# client_cert_path = '/full/path/to/client.pem'\n",
    "# client_key_path = '/full/path/to/client-key.pem'\n",
    "\n",
    "# Create the client with SSL/TLS enabled, but hostname verification disabled.\n",
    "client = OpenSearch(\n",
    "    hosts = [{'host': host, 'port': port}],\n",
    "    http_compress = True, # enables gzip compression for request bodies\n",
    "    http_auth = auth,\n",
    "    # client_cert = client_cert_path,\n",
    "    # client_key = client_key_path,\n",
    "    use_ssl = True,\n",
    "    verify_certs = False,\n",
    "    ssl_assert_hostname = False,\n",
    "    ssl_show_warn = False\n",
    "    #, ca_certs = ca_certs_path\n",
    ")\n",
    "\n",
    "if client.indices.exists(index_name):\n",
    "\n",
    "    client.indices.open(index = index_name)\n",
    "\n",
    "    print('\\n----------------------------------------------------------------------------------- INDEX SETTINGS')\n",
    "    index_settings = {\n",
    "        \"settings\":{\n",
    "          \"index\":{\n",
    "             \"refresh_interval\" : \"1s\"\n",
    "          }\n",
    "       }\n",
    "    }\n",
    "    client.indices.put_settings(index = index_name, body = index_settings)\n",
    "    settings = client.indices.get_settings(index = index_name)\n",
    "    pp.pprint(settings)\n",
    "\n",
    "    print('\\n----------------------------------------------------------------------------------- INDEX MAPPINGS')\n",
    "    mappings = client.indices.get_mapping(index = index_name)\n",
    "    pp.pprint(mappings)\n",
    "\n",
    "    print('\\n----------------------------------------------------------------------------------- INDEX #DOCs')\n",
    "    print(client.count(index = index_name))\n",
    "    "
   ]
  },
  {
   "cell_type": "markdown",
   "id": "74203094-61c8-4f9f-9372-259cba0474a1",
   "metadata": {},
   "source": [
    "# Index creation and configuration"
   ]
  },
  {
   "cell_type": "markdown",
   "id": "7ec20622-378e-43a1-8603-02b3eaf1df90",
   "metadata": {},
   "source": [
    "## Create an index with your own settings\n"
   ]
  },
  {
   "cell_type": "code",
   "execution_count": 30,
   "id": "728f19c7-f43d-48ef-a6f2-24d6e1b31d35",
   "metadata": {},
   "outputs": [
    {
     "name": "stdout",
     "output_type": "stream",
     "text": [
      "\n",
      "Creating index:\n",
      "{'acknowledged': True, 'shards_acknowledged': True, 'index': 'kwiz'}\n"
     ]
    }
   ],
   "source": [
    "\n",
    "index_body = {\n",
    "   \"settings\":{\n",
    "      \"index\":{\n",
    "         \"number_of_replicas\":0,\n",
    "         \"number_of_shards\":4,\n",
    "         \"refresh_interval\" : \"-1\",\n",
    "         \"knn\" : \"true\",\n",
    "      },\n",
    "   },\n",
    "   \"mappings\":{\n",
    "      \"properties\":{\n",
    "         \"id\":{\n",
    "            \"type\":\"keyword\"\n",
    "         },\n",
    "         \"contents\":{\n",
    "            \"type\":\"text\",\n",
    "            \"similarity\":\"BM25\"\n",
    "         },\n",
    "         \"sentence_embedding\": {\n",
    "           \"type\": \"knn_vector\",\n",
    "           \"model_id\": \"model_kwiz\"\n",
    "         }\n",
    "      }\n",
    "   }\n",
    "}\n",
    "\n",
    "if not client.indices.exists(index_name):\n",
    "    response = client.indices.create(index_name, body=index_body)\n",
    "    print('\\nCreating index:')\n",
    "    print(response)\n"
   ]
  },
  {
   "cell_type": "markdown",
   "id": "926fc1ba-4906-460e-9c35-926acf3d24ec",
   "metadata": {},
   "source": [
    "## Check the indexes, settings and mappings\n"
   ]
  },
  {
   "cell_type": "code",
   "execution_count": 5,
   "id": "3dcd4df4-5a77-44fd-b62e-b3dcac013e62",
   "metadata": {},
   "outputs": [
    {
     "name": "stdout",
     "output_type": "stream",
     "text": [
      "\n",
      "----------------------------------------------------------------------------------- INDEX SETTINGS\n",
      "{'user220': {'settings': {'index': {'creation_date': '1647384285322',\n",
      "                                    'knn': 'true',\n",
      "                                    'number_of_replicas': '0',\n",
      "                                    'number_of_shards': '4',\n",
      "                                    'provided_name': 'user220',\n",
      "                                    'refresh_interval': '1s',\n",
      "                                    'uuid': 'xEy7XhsRQXu008Supzqjag',\n",
      "                                    'version': {'created': '135238227'}}}}}\n",
      "\n",
      "----------------------------------------------------------------------------------- INDEX MAPPINGS\n",
      "{'user220': {'mappings': {'properties': {'contents': {'similarity': 'BM25',\n",
      "                                                      'type': 'text'},\n",
      "                                         'id': {'type': 'keyword'},\n",
      "                                         'sentence_embedding': {'model_id': 'model_kwiz',\n",
      "                                                                'type': 'knn_vector'}}}}}\n",
      "\n",
      "----------------------------------------------------------------------------------- INDEX #DOCs\n",
      "{'count': 0, '_shards': {'total': 4, 'successful': 4, 'skipped': 0, 'failed': 0}}\n"
     ]
    }
   ],
   "source": [
    "print('\\n----------------------------------------------------------------------------------- INDEX SETTINGS')\n",
    "index_settings = {\n",
    "    \"settings\":{\n",
    "      \"index\":{\n",
    "         \"refresh_interval\" : \"1s\"\n",
    "      }\n",
    "   }\n",
    "}\n",
    "client.indices.put_settings(index = index_name, body = index_settings)\n",
    "settings = client.indices.get_settings(index = index_name)\n",
    "pp.pprint(settings)\n",
    "\n",
    "print('\\n----------------------------------------------------------------------------------- INDEX MAPPINGS')\n",
    "mappings = client.indices.get_mapping(index = index_name)\n",
    "pp.pprint(mappings)\n",
    "\n",
    "print('\\n----------------------------------------------------------------------------------- INDEX #DOCs')\n",
    "print(client.count(index = index_name))\n"
   ]
  },
  {
   "cell_type": "markdown",
   "id": "740c8045-9117-4e45-831d-dd52b4b69581",
   "metadata": {},
   "source": [
    "## Delete the index if you want to replace it"
   ]
  },
  {
   "cell_type": "code",
   "execution_count": 6,
   "id": "dd757fe9-d568-4ed8-84cf-76e568a7e3bb",
   "metadata": {},
   "outputs": [
    {
     "ename": "SyntaxError",
     "evalue": "invalid syntax (382793999.py, line 1)",
     "output_type": "error",
     "traceback": [
      "\u001b[0;36m  File \u001b[0;32m\"/tmp/ipykernel_2075597/382793999.py\"\u001b[0;36m, line \u001b[0;32m1\u001b[0m\n\u001b[0;31m    be absolutely sure that you want to comment this line _and_ DELETE the index!!!\u001b[0m\n\u001b[0m       ^\u001b[0m\n\u001b[0;31mSyntaxError\u001b[0m\u001b[0;31m:\u001b[0m invalid syntax\n"
     ]
    }
   ],
   "source": [
    "be absolutely sure that you want to comment this line _and_ DELETE the index!!!\n",
    "\n",
    "if client.indices.exists(index=index_name):\n",
    "    # Delete the index.\n",
    "    response = client.indices.delete(\n",
    "        index = index_name,\n",
    "        timeout = \"600s\"\n",
    "    )\n",
    "    print('\\nDeleting index:')\n",
    "    print(response)"
   ]
  },
  {
   "cell_type": "markdown",
   "id": "d8f11b56-ef9b-44c7-90b9-7e70c077a12e",
   "metadata": {},
   "source": [
    "# Document Processing\n",
    "\n",
    "## HTML text extraction\n",
    "\n"
   ]
  },
  {
   "cell_type": "markdown",
   "id": "5d9aa051-889f-40f0-8e4e-4818efe90f2c",
   "metadata": {},
   "source": [
    "## Text tokenization"
   ]
  },
  {
   "cell_type": "code",
   "execution_count": 27,
   "id": "38cf0559-1146-4a9b-8529-aebbe60575f0",
   "metadata": {},
   "outputs": [
    {
     "name": "stdout",
     "output_type": "stream",
     "text": [
      "token      lemma      pos    tag    dep        shape      alpha stop\n",
      "------------------------------------------------------------------------------\n",
      "Apple      Apple      PROPN  NNP    nsubj      Xxxxx      True False\n",
      "is         be         AUX    VBZ    aux        xx         True True\n",
      "looking    look       VERB   VBG    ROOT       xxxx       True False\n",
      "at         at         ADP    IN     prep       xx         True True\n",
      "buying     buy        VERB   VBG    pcomp      xxxx       True False\n",
      "U.K.       U.K.       PROPN  NNP    dobj       X.X.       False False\n",
      "startup    startup    VERB   VBD    dep        xxxx       True False\n",
      "for        for        ADP    IN     prep       xxx        True True\n",
      "$          $          SYM    $      quantmod   $          False False\n",
      "1          1          NUM    CD     compound   d          False False\n",
      "billion    billion    NUM    CD     pobj       xxxx       True False\n"
     ]
    }
   ],
   "source": [
    "import spacy\n",
    "from spacy import displacy\n",
    "from pathlib import Path\n",
    "\n",
    "nlp = spacy.load(\"en_core_web_sm\")\n",
    "doc = nlp(\"Apple is looking at buying U.K. startup for $1 billion\")\n",
    "\n",
    "save_figures = False\n",
    "\n",
    "print(\"token\".ljust(10), \"lemma\".ljust(10), \"pos\".ljust(6), \"tag\".ljust(6), \"dep\".ljust(10),\n",
    "            \"shape\".ljust(10), \"alpha\", \"stop\")\n",
    "print(\"------------------------------------------------------------------------------\")\n",
    "for token in doc:\n",
    "    print(token.text.ljust(10), token.lemma_.ljust(10), token.pos_.ljust(6), token.tag_.ljust(6), token.dep_.ljust(10),\n",
    "            token.shape_.ljust(10), token.is_alpha, token.is_stop)\n"
   ]
  },
  {
   "cell_type": "markdown",
   "id": "9a470b87-5ad3-480e-a225-467f8259fdd1",
   "metadata": {},
   "source": [
    "## Named entity recognition"
   ]
  },
  {
   "cell_type": "code",
   "execution_count": 25,
   "id": "45616666-b424-4a0e-9852-498857da5b97",
   "metadata": {},
   "outputs": [
    {
     "name": "stdout",
     "output_type": "stream",
     "text": [
      "Apple        ORG        0 5\n",
      "U.K.         GPE        27 31\n",
      "$1 billion   MONEY      44 54\n"
     ]
    },
    {
     "data": {
      "text/html": [
       "<span class=\"tex2jax_ignore\"><div class=\"entities\" style=\"line-height: 2.5; direction: ltr\">\n",
       "<mark class=\"entity\" style=\"background: #7aecec; padding: 0.45em 0.6em; margin: 0 0.25em; line-height: 1; border-radius: 0.35em;\">\n",
       "    Apple\n",
       "    <span style=\"font-size: 0.8em; font-weight: bold; line-height: 1; border-radius: 0.35em; vertical-align: middle; margin-left: 0.5rem\">ORG</span>\n",
       "</mark>\n",
       " is looking at buying \n",
       "<mark class=\"entity\" style=\"background: #feca74; padding: 0.45em 0.6em; margin: 0 0.25em; line-height: 1; border-radius: 0.35em;\">\n",
       "    U.K.\n",
       "    <span style=\"font-size: 0.8em; font-weight: bold; line-height: 1; border-radius: 0.35em; vertical-align: middle; margin-left: 0.5rem\">GPE</span>\n",
       "</mark>\n",
       " startup for \n",
       "<mark class=\"entity\" style=\"background: #e4e7d2; padding: 0.45em 0.6em; margin: 0 0.25em; line-height: 1; border-radius: 0.35em;\">\n",
       "    $1 billion\n",
       "    <span style=\"font-size: 0.8em; font-weight: bold; line-height: 1; border-radius: 0.35em; vertical-align: middle; margin-left: 0.5rem\">MONEY</span>\n",
       "</mark>\n",
       "</div></span>"
      ],
      "text/plain": [
       "<IPython.core.display.HTML object>"
      ]
     },
     "metadata": {},
     "output_type": "display_data"
    }
   ],
   "source": [
    "import spacy\n",
    "from spacy import displacy\n",
    "from pathlib import Path\n",
    "\n",
    "nlp = spacy.load(\"en_core_web_sm\")\n",
    "doc = nlp(\"Apple is looking at buying U.K. startup for $1 billion\")\n",
    "\n",
    "for ent in doc.ents:\n",
    "    print(ent.text.ljust(12), ent.label_.ljust(10), ent.start_char, ent.end_char)\n",
    "\n",
    "html_ent = displacy.render(doc, style=\"ent\", jupyter=True)\n"
   ]
  },
  {
   "cell_type": "markdown",
   "id": "8d32f953-2533-4e93-a7c0-4a0470e1f32c",
   "metadata": {},
   "source": [
    "# Document indexing\n",
    "\n",
    "## Simple Document indexing\n",
    "\n"
   ]
  },
  {
   "cell_type": "code",
   "execution_count": 13,
   "id": "3081fd35-d75c-4e71-b382-e3704b6cbf32",
   "metadata": {},
   "outputs": [
    {
     "name": "stdout",
     "output_type": "stream",
     "text": [
      "updated\n"
     ]
    }
   ],
   "source": [
    "doc = {\n",
    "    'id': '52345',\n",
    "    'contents': 'joana dias horas minutos segundos',\n",
    "}\n",
    "\n",
    "resp = client.index(index=index_name, id=1, body=doc)\n",
    "print(resp['result'])\n"
   ]
  },
  {
   "cell_type": "markdown",
   "id": "b046da48-c98e-4ec3-8df8-a5066c9597bc",
   "metadata": {},
   "source": [
    "# Search"
   ]
  },
  {
   "cell_type": "markdown",
   "id": "40db83cf-94fd-4416-8438-3d15f2899928",
   "metadata": {},
   "source": [
    "## Text-based Search"
   ]
  },
  {
   "cell_type": "code",
   "execution_count": 16,
   "id": "c5beaf96-5c80-4853-a7ac-20784a633f7c",
   "metadata": {
    "tags": []
   },
   "outputs": [
    {
     "name": "stdout",
     "output_type": "stream",
     "text": [
      "\n",
      "Search results:\n",
      "{'_shards': {'failed': 0, 'skipped': 0, 'successful': 4, 'total': 4},\n",
      " 'hits': {'hits': [{'_id': '1',\n",
      "                    '_index': 'user220',\n",
      "                    '_score': 0.4091398,\n",
      "                    '_source': {},\n",
      "                    '_type': '_doc',\n",
      "                    'fields': {'contents': ['joana dias horas minutos '\n",
      "                                            'segundos']}}],\n",
      "          'max_score': 0.4091398,\n",
      "          'total': {'relation': 'eq', 'value': 1}},\n",
      " 'timed_out': False,\n",
      " 'took': 11}\n"
     ]
    }
   ],
   "source": [
    "qtxt = 'joana'\n",
    "\n",
    "query_bm25 = {\n",
    "  'size': 5,\n",
    "  'fields': ['contents'],\n",
    "#  'fields': ['id', 'contents'],\n",
    "#  'fields': ['id', 'contents', 'sentence_embedding'],\n",
    "  '_source': '',\n",
    "  'query': {\n",
    "    'multi_match': {\n",
    "      'query': qtxt,\n",
    "      'fields': ['contents']\n",
    "    }\n",
    "  }\n",
    "}\n",
    "\n",
    "response = client.search(\n",
    "    body = query_bm25,\n",
    "    index = index_name\n",
    ")\n",
    "\n",
    "print('\\nSearch results:')\n",
    "pp.pprint(response)\n"
   ]
  },
  {
   "cell_type": "markdown",
   "id": "45dd4218-1a32-458c-acf9-77fcf1693d4a",
   "metadata": {},
   "source": [
    "# Close the index and refresh it"
   ]
  },
  {
   "cell_type": "code",
   "execution_count": 17,
   "id": "7d6ca887-56bf-4846-a603-3596114c8db8",
   "metadata": {},
   "outputs": [
    {
     "data": {
      "text/plain": [
       "{'acknowledged': True}"
      ]
     },
     "execution_count": 17,
     "metadata": {},
     "output_type": "execute_result"
    }
   ],
   "source": [
    "\n",
    "# NOT SURE IF THIS IS NEEDED WITH FAISS\n",
    "\n",
    "index_settings = {\n",
    "    \"settings\":{\n",
    "      \"index\":{\n",
    "         \"refresh_interval\" : \"1s\"\n",
    "      }\n",
    "   }\n",
    "}\n",
    "\n",
    "client.indices.close(index = index_name, timeout=\"600s\")\n",
    "client.indices.put_settings(index = index_name, body = index_settings)"
   ]
  }
 ],
 "metadata": {
  "kernelspec": {
   "display_name": "wsdm2022",
   "language": "python",
   "name": "wsdm2022"
  },
  "language_info": {
   "codemirror_mode": {
    "name": "ipython",
    "version": 3
   },
   "file_extension": ".py",
   "mimetype": "text/x-python",
   "name": "python",
   "nbconvert_exporter": "python",
   "pygments_lexer": "ipython3",
   "version": "3.8.12"
  },
  "toc-autonumbering": true,
  "toc-showcode": false,
  "toc-showmarkdowntxt": false,
  "toc-showtags": false
 },
 "nbformat": 4,
 "nbformat_minor": 5
}
