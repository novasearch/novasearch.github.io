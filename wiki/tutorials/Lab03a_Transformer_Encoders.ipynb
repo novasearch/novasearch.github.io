{
 "cells": [
  {
   "cell_type": "markdown",
   "metadata": {},
   "source": [
    "# Transformer Encoders\n",
    "\n",
    "In this tutorial you will explore the **word-piece tokenization**,the **self-attention mechanism**, and how **BERT encoder** put it all together. \n",
    "\n",
    "## Install the libraries\n",
    "If you haven't done so yet, you you need to install the following libraries:\n",
    "\n",
    "    pip install transformers\n",
    "    pip install ipywidgets\n",
    "    pip install bertviz\n",
    "\n",
    "Also, you have to download the following elements:"
   ]
  },
  {
   "cell_type": "code",
   "execution_count": 1,
   "metadata": {
    "colab": {
     "base_uri": "https://localhost:8080/"
    },
    "id": "vcQwjqCo1ziM",
    "outputId": "eb2b6177-d4e1-4e9d-aa63-0b56a9248c0e"
   },
   "outputs": [
    {
     "name": "stdout",
     "output_type": "stream",
     "text": [
      "FYI: bertviz_repo directory already exists, to pull latest version uncomment this line: !rm -r bertviz_repo\n"
     ]
    }
   ],
   "source": [
    "import sys\n",
    "!test -d bertviz_repo && echo \"FYI: bertviz_repo directory already exists, to pull latest version uncomment this line: !rm -r bertviz_repo\"\n",
    "# !rm -r bertviz_repo # Uncomment if you need a clean pull from repo\n",
    "!test -d bertviz_repo || git clone https://github.com/jessevig/bertviz bertviz_repo\n",
    "if not 'bertviz_repo' in sys.path:\n",
    "  sys.path += ['bertviz_repo']"
   ]
  },
  {
   "cell_type": "markdown",
   "metadata": {},
   "source": [
    "## Imports and definitions"
   ]
  },
  {
   "cell_type": "code",
   "execution_count": 1,
   "metadata": {
    "id": "juNXbazl16D5"
   },
   "outputs": [],
   "source": [
    "import numpy as np\n",
    "import pprint\n",
    "from sklearn.manifold import TSNE\n",
    "from sklearn.decomposition import PCA\n",
    "import torch\n",
    "import transformers\n",
    "from transformers import AutoTokenizer, AutoConfig, AutoModel\n",
    "from bertviz import model_view, head_view\n",
    "\n",
    "# Get the interactive Tools for Matplotlib\n",
    "import matplotlib.pyplot as plt\n",
    "%matplotlib notebook\n",
    "%matplotlib inline\n",
    "plt.style.use('ggplot')\n",
    "\n"
   ]
  },
  {
   "cell_type": "code",
   "execution_count": 3,
   "metadata": {
    "id": "fOQQ6zwO19Bg"
   },
   "outputs": [],
   "source": [
    "def call_html():\n",
    "  import IPython\n",
    "  display(IPython.core.display.HTML('''\n",
    "        <script src=\"/static/components/requirejs/require.js\"></script>\n",
    "        <script>\n",
    "          requirejs.config({\n",
    "            paths: {\n",
    "              base: '/static/base',\n",
    "              \"d3\": \"https://cdnjs.cloudflare.com/ajax/libs/d3/5.7.0/d3.min\",\n",
    "              jquery: '//ajax.googleapis.com/ajax/libs/jquery/2.0.0/jquery.min',\n",
    "            },\n",
    "          });\n",
    "        </script>\n",
    "        '''))\n",
    "    \n",
    "def display_scatterplot(model, words):\n",
    "\n",
    "    if model.shape[1] == 2:\n",
    "        twodim = model\n",
    "    else:\n",
    "        twodim = PCA().fit_transform(model)[:,:2]\n",
    "    \n",
    "    plt.style.use('ggplot')\n",
    "    plt.figure(figsize=(6,6))\n",
    "    plt.scatter(twodim[:,0], twodim[:,1], edgecolors='k', c='r')\n",
    "    for word, (x,y) in zip(words, twodim):\n",
    "        plt.text(x+0.05, y+0.05, word)\n"
   ]
  },
  {
   "cell_type": "markdown",
   "metadata": {
    "tags": []
   },
   "source": [
    "# Self Attention"
   ]
  },
  {
   "cell_type": "code",
   "execution_count": 4,
   "metadata": {},
   "outputs": [],
   "source": [
    "import torch\n",
    "from torch.nn.functional import softmax"
   ]
  },
  {
   "cell_type": "markdown",
   "metadata": {},
   "source": [
    "## Input token embeddings"
   ]
  },
  {
   "cell_type": "code",
   "execution_count": 5,
   "metadata": {},
   "outputs": [],
   "source": [
    "input_embedding_dim = 4\n",
    "x = [\n",
    "  [1, 0, 1, 0], # Input 1\n",
    "  [0, 2, 0, 2], # Input 2\n",
    "  [1, 1, 1, 1], # Input 3\n",
    "  [2, 0, 0, 1], # Input 4\n",
    "  [0, 2, 0, 1], # Input 5\n",
    "  [0, 0, 2, 1], # Input 6\n",
    "  [2, 0, 1, 0], # Input 7\n",
    "  [1, 2, 1, 0]  # Input 8\n",
    " ]\n",
    "\n",
    "x = torch.tensor(x, dtype=torch.float32)\n"
   ]
  },
  {
   "cell_type": "markdown",
   "metadata": {},
   "source": [
    "## Queries, keys and values"
   ]
  },
  {
   "cell_type": "code",
   "execution_count": 6,
   "metadata": {},
   "outputs": [],
   "source": [
    "layer_embedding_dim = 2\n",
    "\n",
    "w_key = torch.rand(layer_embedding_dim, input_embedding_dim, dtype=torch.float32)\n",
    "w_query = torch.rand(layer_embedding_dim, input_embedding_dim, dtype=torch.float32)\n",
    "w_value = torch.rand(layer_embedding_dim, input_embedding_dim, dtype=torch.float32)\n",
    "\n",
    "keys = torch.matmul(x, w_key.T)\n",
    "querys = torch.matmul(x, w_query.T)\n",
    "values = torch.matmul(x, w_value.T)"
   ]
  },
  {
   "cell_type": "markdown",
   "metadata": {},
   "source": [
    "## Scaled Dot Product Attention"
   ]
  },
  {
   "cell_type": "code",
   "execution_count": 7,
   "metadata": {},
   "outputs": [],
   "source": [
    "attn_scores = torch.matmul(querys, keys.T)\n",
    "attn_scores_softmax = softmax(attn_scores, dim=-1)\n",
    "outputs = torch.matmul(attn_scores_softmax, values)"
   ]
  },
  {
   "cell_type": "markdown",
   "metadata": {},
   "source": [
    "## Visualize the Attention Matrix"
   ]
  },
  {
   "cell_type": "code",
   "execution_count": 8,
   "metadata": {},
   "outputs": [
    {
     "data": {
      "image/png": "[encoded data removed]",
      "text/plain": [
       "<Figure size 480x480 with 1 Axes>"
      ]
     },
     "metadata": {},
     "output_type": "display_data"
    }
   ],
   "source": [
    "import matplotlib.pyplot as plt\n",
    "plt.matshow(attn_scores_softmax.numpy())\n",
    "plt.show()"
   ]
  },
  {
   "cell_type": "markdown",
   "metadata": {},
   "source": [
    "# Pre-trained Transformer encoder models\n",
    "\n",
    "There are many models available at HuggingFace models repository. These are stable models that were made available by researchers and the industry.\n",
    "\n",
    "   https://huggingface.co/models\n",
    "\n",
    "The example below is the most popular Transformer model, BERT, a cross-encoder trained on the Next Sentence Prediction task and Masked Language Model task. \n",
    "\n",
    "   https://github.com/UKPLab/sentence-transformers/blob/master/docs/pretrained-models/ce-msmarco.md\n"
   ]
  },
  {
   "cell_type": "code",
   "execution_count": 9,
   "metadata": {
    "colab": {
     "base_uri": "https://localhost:8080/"
    },
    "id": "p6E3k5NJuO6W",
    "outputId": "e8d8f962-185e-4c6d-9eae-fc236e5a0d06"
   },
   "outputs": [],
   "source": [
    "model_path = 'cross-encoder/ms-marco-MiniLM-L-12-v2'\n",
    "model_path = 'bert-base-uncased'\n",
    "CLS_token = \"[CLS]\"\n",
    "SEP_token = \"[SEP]\""
   ]
  },
  {
   "cell_type": "code",
   "execution_count": 10,
   "metadata": {
    "colab": {
     "base_uri": "https://localhost:8080/",
     "height": 410
    },
    "id": "RYKgsb3IkElT",
    "outputId": "862994e3-7daa-4ddf-d471-b66eaddb6385"
   },
   "outputs": [
    {
     "name": "stderr",
     "output_type": "stream",
     "text": [
      "Some weights of the model checkpoint at bert-base-uncased were not used when initializing BertModel: ['cls.predictions.transform.dense.bias', 'cls.seq_relationship.weight', 'cls.predictions.transform.dense.weight', 'cls.predictions.transform.LayerNorm.bias', 'cls.predictions.decoder.weight', 'cls.predictions.transform.LayerNorm.weight', 'cls.predictions.bias', 'cls.seq_relationship.bias']\n",
      "- This IS expected if you are initializing BertModel from the checkpoint of a model trained on another task or with another architecture (e.g. initializing a BertForSequenceClassification model from a BertForPreTraining model).\n",
      "- This IS NOT expected if you are initializing BertModel from the checkpoint of a model that you expect to be exactly identical (initializing a BertForSequenceClassification model from a BertForSequenceClassification model).\n"
     ]
    }
   ],
   "source": [
    "transformers.logging.set_verbosity_warning()\n",
    "\n",
    "tokenizer = AutoTokenizer.from_pretrained(model_path)\n",
    "config = AutoConfig.from_pretrained(model_path,  output_hidden_states=True, output_attentions=True)  \n",
    "model = AutoModel.from_pretrained(model_path, config=config)"
   ]
  },
  {
   "cell_type": "code",
   "execution_count": 11,
   "metadata": {},
   "outputs": [
    {
     "data": {
      "text/plain": [
       "BertModel(\n",
       "  (embeddings): BertEmbeddings(\n",
       "    (word_embeddings): Embedding(30522, 768, padding_idx=0)\n",
       "    (position_embeddings): Embedding(512, 768)\n",
       "    (token_type_embeddings): Embedding(2, 768)\n",
       "    (LayerNorm): LayerNorm((768,), eps=1e-12, elementwise_affine=True)\n",
       "    (dropout): Dropout(p=0.1, inplace=False)\n",
       "  )\n",
       "  (encoder): BertEncoder(\n",
       "    (layer): ModuleList(\n",
       "      (0-11): 12 x BertLayer(\n",
       "        (attention): BertAttention(\n",
       "          (self): BertSelfAttention(\n",
       "            (query): Linear(in_features=768, out_features=768, bias=True)\n",
       "            (key): Linear(in_features=768, out_features=768, bias=True)\n",
       "            (value): Linear(in_features=768, out_features=768, bias=True)\n",
       "            (dropout): Dropout(p=0.1, inplace=False)\n",
       "          )\n",
       "          (output): BertSelfOutput(\n",
       "            (dense): Linear(in_features=768, out_features=768, bias=True)\n",
       "            (LayerNorm): LayerNorm((768,), eps=1e-12, elementwise_affine=True)\n",
       "            (dropout): Dropout(p=0.1, inplace=False)\n",
       "          )\n",
       "        )\n",
       "        (intermediate): BertIntermediate(\n",
       "          (dense): Linear(in_features=768, out_features=3072, bias=True)\n",
       "          (intermediate_act_fn): GELUActivation()\n",
       "        )\n",
       "        (output): BertOutput(\n",
       "          (dense): Linear(in_features=3072, out_features=768, bias=True)\n",
       "          (LayerNorm): LayerNorm((768,), eps=1e-12, elementwise_affine=True)\n",
       "          (dropout): Dropout(p=0.1, inplace=False)\n",
       "        )\n",
       "      )\n",
       "    )\n",
       "  )\n",
       "  (pooler): BertPooler(\n",
       "    (dense): Linear(in_features=768, out_features=768, bias=True)\n",
       "    (activation): Tanh()\n",
       "  )\n",
       ")"
      ]
     },
     "execution_count": 11,
     "metadata": {},
     "output_type": "execute_result"
    }
   ],
   "source": [
    "model"
   ]
  },
  {
   "cell_type": "markdown",
   "metadata": {},
   "source": [
    "# Input Tokenization\n",
    "\n",
    "See here for details: https://huggingface.co/docs/transformers/tokenizer_summary"
   ]
  },
  {
   "cell_type": "markdown",
   "metadata": {},
   "source": [
    "## Prepare and tokenize the input"
   ]
  },
  {
   "cell_type": "code",
   "execution_count": 59,
   "metadata": {
    "tags": []
   },
   "outputs": [
    {
     "name": "stdout",
     "output_type": "stream",
     "text": [
      "{'attention_mask': tensor([[1, 1, 1, 1, 1]]),\n",
      " 'input_ids': tensor([[ 101, 1012,  102, 1012,  102]]),\n",
      " 'token_type_ids': tensor([[0, 0, 0, 1, 1]])}\n"
     ]
    }
   ],
   "source": [
    "sentence_a = \".\"\n",
    "sentence_b = \".\"\n",
    "#inputs = tokenizer.encode_plus(sentence_a, sentence_b, return_tensors='pt', add_special_tokens=True, max_length = 512, padding=True, truncation = True)\n",
    "inputs = tokenizer(sentence_a, sentence_b, return_tensors='pt', add_special_tokens=True, max_length = 512, padding=True, truncation = True)\n",
    "\n",
    "pprint.pprint(inputs)"
   ]
  },
  {
   "cell_type": "markdown",
   "metadata": {},
   "source": [
    "## Decode the tokens"
   ]
  },
  {
   "cell_type": "code",
   "execution_count": 13,
   "metadata": {},
   "outputs": [
    {
     "name": "stdout",
     "output_type": "stream",
     "text": [
      "[CLS] show me tasks to fortuneteller. [SEP] tell me about lung cancer. [SEP]\n"
     ]
    }
   ],
   "source": [
    "print(tokenizer.decode(inputs[\"input_ids\"][0].tolist()))"
   ]
  },
  {
   "cell_type": "markdown",
   "metadata": {},
   "source": [
    "## Token to Id "
   ]
  },
  {
   "cell_type": "code",
   "execution_count": 14,
   "metadata": {},
   "outputs": [
    {
     "name": "stdout",
     "output_type": "stream",
     "text": [
      "[101,\n",
      " 2265,\n",
      " 2033,\n",
      " 8518,\n",
      " 2000,\n",
      " 7280,\n",
      " 23567,\n",
      " 2121,\n",
      " 1012,\n",
      " 102,\n",
      " 2425,\n",
      " 2033,\n",
      " 2055,\n",
      " 11192,\n",
      " 4456,\n",
      " 1012,\n",
      " 102]\n"
     ]
    }
   ],
   "source": [
    "input_ids = inputs['input_ids']\n",
    "input_id_list = input_ids[0].tolist() # Batch index 0\n",
    "pprint.pprint(input_id_list)"
   ]
  },
  {
   "cell_type": "code",
   "execution_count": 15,
   "metadata": {},
   "outputs": [
    {
     "name": "stdout",
     "output_type": "stream",
     "text": [
      "['[CLS]',\n",
      " 'show',\n",
      " 'me',\n",
      " 'tasks',\n",
      " 'to',\n",
      " 'fortune',\n",
      " '##tell',\n",
      " '##er',\n",
      " '.',\n",
      " '[SEP]',\n",
      " 'tell',\n",
      " 'me',\n",
      " 'about',\n",
      " 'lung',\n",
      " 'cancer',\n",
      " '.',\n",
      " '[SEP]']\n"
     ]
    }
   ],
   "source": [
    "input_tokens_list = tokenizer.convert_ids_to_tokens(input_id_list)\n",
    "pprint.pprint(input_tokens_list)"
   ]
  },
  {
   "cell_type": "code",
   "execution_count": 16,
   "metadata": {},
   "outputs": [
    {
     "name": "stdout",
     "output_type": "stream",
     "text": [
      "101 \t [CLS]\n",
      "2265 \t show\n",
      "2033 \t me\n",
      "8518 \t tasks\n",
      "2000 \t to\n",
      "7280 \t fortune\n",
      "23567 \t ##tell\n",
      "2121 \t ##er\n",
      "1012 \t .\n",
      "102 \t [SEP]\n",
      "2425 \t tell\n",
      "2033 \t me\n",
      "2055 \t about\n",
      "11192 \t lung\n",
      "4456 \t cancer\n",
      "1012 \t .\n",
      "102 \t [SEP]\n"
     ]
    }
   ],
   "source": [
    "res = \"\\n\".join(\"{} \\t {}\".format(x, y) for x, y in zip(input_id_list, input_tokens_list))\n",
    "print(res)"
   ]
  },
  {
   "cell_type": "markdown",
   "metadata": {},
   "source": [
    "# Model inference output"
   ]
  },
  {
   "cell_type": "code",
   "execution_count": 17,
   "metadata": {},
   "outputs": [],
   "source": [
    "with torch.no_grad():\n",
    "    outputs = model(**inputs)"
   ]
  },
  {
   "cell_type": "code",
   "execution_count": 18,
   "metadata": {},
   "outputs": [
    {
     "data": {
      "text/plain": [
       "odict_keys(['last_hidden_state', 'pooler_output', 'hidden_states', 'attentions'])"
      ]
     },
     "execution_count": 18,
     "metadata": {},
     "output_type": "execute_result"
    }
   ],
   "source": [
    "outputs.keys()"
   ]
  },
  {
   "cell_type": "markdown",
   "metadata": {},
   "source": [
    "## Token embeddings (per layer)"
   ]
  },
  {
   "cell_type": "code",
   "execution_count": 19,
   "metadata": {},
   "outputs": [
    {
     "data": {
      "text/plain": [
       "13"
      ]
     },
     "execution_count": 19,
     "metadata": {},
     "output_type": "execute_result"
    }
   ],
   "source": [
    "# total number of layers embeddings\n",
    "len(outputs['hidden_states'])"
   ]
  },
  {
   "cell_type": "code",
   "execution_count": 20,
   "metadata": {},
   "outputs": [
    {
     "data": {
      "text/plain": [
       "torch.Size([17, 768])"
      ]
     },
     "execution_count": 20,
     "metadata": {},
     "output_type": "execute_result"
    }
   ],
   "source": [
    "# The format is as follow:\n",
    "# outputs['hidden_states'][layer_m][0][token_n]\n",
    "layer_m = 3\n",
    "token_n = 1\n",
    "# Get all the embeddings of one layer:\n",
    "output_embeddings = outputs['hidden_states'][layer_m][0]\n",
    "\n",
    "output_embeddings.shape"
   ]
  },
  {
   "cell_type": "code",
   "execution_count": 21,
   "metadata": {},
   "outputs": [
    {
     "data": {
      "text/plain": [
       "torch.Size([768])"
      ]
     },
     "execution_count": 21,
     "metadata": {},
     "output_type": "execute_result"
    }
   ],
   "source": [
    "token_throat = 2\n",
    "token_cancer = 3\n",
    "\n",
    "# Get the embedding of one particular token in one particular layer\n",
    "throat_output_embedding = outputs['hidden_states'][layer_m][0][token_throat]\n",
    "throat_output_embedding.shape"
   ]
  },
  {
   "cell_type": "markdown",
   "metadata": {},
   "source": [
    "## Contextual word embeddings (per layer)"
   ]
  },
  {
   "cell_type": "code",
   "execution_count": 22,
   "metadata": {},
   "outputs": [],
   "source": [
    "import torch\n",
    "import re\n",
    "from transformers import AutoTokenizer, AutoModel\n",
    "\n",
    "def get_word_idx(sent: str, word: str):\n",
    "    return sent.split(\" \").index(word)\n",
    "\n",
    "def get_word_vector(inputs, outputs, idx, layer):\n",
    "    \"\"\"Get a word vector by averaging the embeddings of \n",
    "       all word occurrences of that word in the input\"\"\"\n",
    "\n",
    "    # get all token idxs that belong to the word of interest\n",
    "    token_ids_word = np.where(np.array(inputs.word_ids()) == idx)\n",
    "    print(inputs.word_ids())\n",
    "    word_tokens_output = outputs.hidden_states[layer][0][token_ids_word]\n",
    "    print(token_ids_word)\n",
    "    return word_tokens_output.mean(dim=0)\n",
    "\n",
    "def get_word_vector_from_ab(inputs, outputs, word, layer = '-1', ab = 'A'):\n",
    "    \"\"\"\n",
    "    This method extracts a word embedding from the requested layer \n",
    "    for sentence_a or sentence_b. If the word is divided into tokens, \n",
    "    the word embedding will be the average of the corresponding token \n",
    "    embeddings.\n",
    "\n",
    "    NOTE: If the same word occurs multiple times in the sentence, \n",
    "    this method returns the word embedding of the first occurrence.\n",
    "\n",
    "    Keyword arguments:\n",
    "        inputs -- input passed to the transformer\n",
    "        outputs -- output of the transformer\n",
    "        word -- target word\n",
    "        layer -- layer from where the word embedding vector should \n",
    "        be extracted.\n",
    "        ab -- should be 'A' or 'B' indication if the word embedding is to be extracted \n",
    "        from sentence_a or sentence_b, i.e., query or document.\n",
    "    \"\"\"\n",
    "       \n",
    "    sep_token = np.where(np.array(inputs[\"input_ids\"][0].tolist()) == 102)[0][0]\n",
    "    if ab == 'A':\n",
    "        tokens_a = inputs[\"input_ids\"][0][1:sep_token]\n",
    "        sent = tokenizer.decode(tokens_a.tolist())\n",
    "    else:\n",
    "        tokens_b = inputs[\"input_ids\"][0][sep_token+1:-1]\n",
    "        sent = tokenizer.decode(tokens_b.tolist())\n",
    "\n",
    "    word_ids = get_word_idx(sent, word)\n",
    "\n",
    "    # get all token idxs that belong to the word of interest\n",
    "    token_ids_word = np.where(np.array(inputs.word_ids()) == word_ids)[0]\n",
    "    sep_word = np.where(np.array(inputs.word_ids()) == None)[0][1]\n",
    "\n",
    "    if ab == 'A':\n",
    "        token_pos = token_ids_word < sep_word\n",
    "    else:\n",
    "        token_pos = token_ids_word > sep_word\n",
    "        \n",
    "    token_ids_word = token_ids_word[token_pos]\n",
    "    word_tokens_output = outputs.hidden_states[layer][0][token_ids_word]\n",
    "\n",
    "    # Change this to True for inspection\n",
    "    details = True\n",
    "    if details:\n",
    "        input_id_list = input_ids[0].tolist() # Batch index 0\n",
    "        tokens = tokenizer.convert_ids_to_tokens(input_id_list)\n",
    "        str1 = \" \"\n",
    "\n",
    "        print(\"- - - - - - - - - - - - - - - - - - - - - - - - - - - - - - - - - - - \")\n",
    "        print(\"INPUT SEQUENCE TOKENS: \", str1.join(tokens))\n",
    "        print(\"TARGET WORD:\", word)\n",
    "        print(\"TARGET SENTENCE:\", ab)\n",
    "        print(\"TARGET SENTENCE WORDS [\", sent, \"]\")\n",
    "        print(\"The word [\", word, \"] occurs in position\", idx, \"of the BERT input sentence\", ab)\n",
    "        print(\"The word [\", word, \"] corresponds to the token(s)\", token_ids_word, \"of the BERT input sequence\", ab)\n",
    "\n",
    "    return word_tokens_output.mean(dim=0)\n",
    "\n"
   ]
  },
  {
   "cell_type": "code",
   "execution_count": 23,
   "metadata": {},
   "outputs": [
    {
     "ename": "ValueError",
     "evalue": "'treatable' is not in list",
     "output_type": "error",
     "traceback": [
      "\u001b[0;31m---------------------------------------------------------------------------\u001b[0m",
      "\u001b[0;31mValueError\u001b[0m                                Traceback (most recent call last)",
      "Cell \u001b[0;32mIn[23], line 5\u001b[0m\n\u001b[1;32m      3\u001b[0m sentence_a \u001b[38;5;241m=\u001b[39m tokenizer\u001b[38;5;241m.\u001b[39mdecode(inputs[\u001b[38;5;124m\"\u001b[39m\u001b[38;5;124minput_ids\u001b[39m\u001b[38;5;124m\"\u001b[39m][\u001b[38;5;241m0\u001b[39m]\u001b[38;5;241m.\u001b[39mtolist())\u001b[38;5;241m.\u001b[39mreplace(\u001b[38;5;124m\"\u001b[39m\u001b[38;5;124m[CLS] \u001b[39m\u001b[38;5;124m\"\u001b[39m, \u001b[38;5;124m'\u001b[39m\u001b[38;5;124m'\u001b[39m)\u001b[38;5;241m.\u001b[39mreplace(\u001b[38;5;124m\"\u001b[39m\u001b[38;5;124m [SEP]\u001b[39m\u001b[38;5;124m\"\u001b[39m, \u001b[38;5;124m'\u001b[39m\u001b[38;5;124m'\u001b[39m)\n\u001b[1;32m      4\u001b[0m word \u001b[38;5;241m=\u001b[39m \u001b[38;5;124m\"\u001b[39m\u001b[38;5;124mtreatable\u001b[39m\u001b[38;5;124m\"\u001b[39m\n\u001b[0;32m----> 5\u001b[0m idx \u001b[38;5;241m=\u001b[39m \u001b[43mget_word_idx\u001b[49m\u001b[43m(\u001b[49m\u001b[43msentence_a\u001b[49m\u001b[43m,\u001b[49m\u001b[43m \u001b[49m\u001b[43mword\u001b[49m\u001b[43m)\u001b[49m\n\u001b[1;32m      6\u001b[0m \u001b[38;5;28mprint\u001b[39m(\u001b[38;5;124m\"\u001b[39m\u001b[38;5;124mInput sequence:\u001b[39m\u001b[38;5;124m\"\u001b[39m, sentence_a)\n\u001b[1;32m      7\u001b[0m \u001b[38;5;28mprint\u001b[39m(\u001b[38;5;124m\"\u001b[39m\u001b[38;5;124mThe word \u001b[39m\u001b[38;5;130;01m\\\"\u001b[39;00m\u001b[38;5;124m\"\u001b[39m, word, \u001b[38;5;124m\"\u001b[39m\u001b[38;5;130;01m\\\"\u001b[39;00m\u001b[38;5;124m occurs in position\u001b[39m\u001b[38;5;124m\"\u001b[39m, idx, \u001b[38;5;124m\"\u001b[39m\u001b[38;5;124mof the BERT input sequence.\u001b[39m\u001b[38;5;124m\"\u001b[39m)\n",
      "Cell \u001b[0;32mIn[22], line 6\u001b[0m, in \u001b[0;36mget_word_idx\u001b[0;34m(sent, word)\u001b[0m\n\u001b[1;32m      5\u001b[0m \u001b[38;5;28;01mdef\u001b[39;00m \u001b[38;5;21mget_word_idx\u001b[39m(sent: \u001b[38;5;28mstr\u001b[39m, word: \u001b[38;5;28mstr\u001b[39m):\n\u001b[0;32m----> 6\u001b[0m     \u001b[38;5;28;01mreturn\u001b[39;00m \u001b[43msent\u001b[49m\u001b[38;5;241;43m.\u001b[39;49m\u001b[43msplit\u001b[49m\u001b[43m(\u001b[49m\u001b[38;5;124;43m\"\u001b[39;49m\u001b[38;5;124;43m \u001b[39;49m\u001b[38;5;124;43m\"\u001b[39;49m\u001b[43m)\u001b[49m\u001b[38;5;241;43m.\u001b[39;49m\u001b[43mindex\u001b[49m\u001b[43m(\u001b[49m\u001b[43mword\u001b[49m\u001b[43m)\u001b[49m\n",
      "\u001b[0;31mValueError\u001b[0m: 'treatable' is not in list"
     ]
    }
   ],
   "source": [
    "\n",
    "# The code below converts the tokens into a space delimited string.\n",
    "# This will allow computing in which position of the BERT input sequence a given word is.\n",
    "sentence_a = tokenizer.decode(inputs[\"input_ids\"][0].tolist()).replace(\"[CLS] \", '').replace(\" [SEP]\", '')\n",
    "word = \"treatable\"\n",
    "idx = get_word_idx(sentence_a, word)\n",
    "print(\"Input sequence:\", sentence_a)\n",
    "print(\"The word \\\"\", word, \"\\\" occurs in position\", idx, \"of the BERT input sequence.\")\n",
    "\n",
    "word_embedding = get_word_vector(inputs, outputs, idx, 4)"
   ]
  },
  {
   "cell_type": "code",
   "execution_count": null,
   "metadata": {},
   "outputs": [],
   "source": [
    "word_embedding = get_word_vector_from_ab(inputs, outputs, \"treatable\", 4, 'A')\n",
    "word_embedding.size()"
   ]
  },
  {
   "cell_type": "markdown",
   "metadata": {},
   "source": [
    "## Output layer embeddings"
   ]
  },
  {
   "cell_type": "code",
   "execution_count": null,
   "metadata": {},
   "outputs": [],
   "source": [
    "# the last layer is the output embedding layer\n",
    "output_embeddings = outputs['last_hidden_state']"
   ]
  },
  {
   "cell_type": "code",
   "execution_count": null,
   "metadata": {},
   "outputs": [],
   "source": [
    "display_scatterplot(output_embeddings[0].detach().numpy(), input_tokens_list)"
   ]
  },
  {
   "cell_type": "markdown",
   "metadata": {},
   "source": [
    "## Self-attention matrices"
   ]
  },
  {
   "cell_type": "code",
   "execution_count": null,
   "metadata": {},
   "outputs": [],
   "source": [
    "attention = outputs['attentions']\n",
    "\n",
    "# The format of the attention tensor is:\n",
    "#     attention[layer][sample_n][head][token1][token2]\n",
    "\n",
    "layer = 3      # Transformer layer\n",
    "sample_n = 0   # Input sample\n",
    "head = 3       # Head of the selected layer"
   ]
  },
  {
   "cell_type": "code",
   "execution_count": null,
   "metadata": {},
   "outputs": [],
   "source": [
    "# the score of the attention of one token vs the other token\n",
    "attention[layer][sample_n][head][token_throat][token_cancer]"
   ]
  },
  {
   "cell_type": "code",
   "execution_count": null,
   "metadata": {},
   "outputs": [],
   "source": [
    "attention[layer][sample_n][head].size()"
   ]
  },
  {
   "cell_type": "code",
   "execution_count": null,
   "metadata": {},
   "outputs": [],
   "source": [
    "# There's a softmax, so, the sum should be 1 \n",
    "attention[layer][sample_n][head][token_throat].sum()"
   ]
  },
  {
   "cell_type": "code",
   "execution_count": null,
   "metadata": {},
   "outputs": [],
   "source": [
    "attention[layer][sample_n][head][token_cancer].sum()"
   ]
  },
  {
   "cell_type": "code",
   "execution_count": null,
   "metadata": {},
   "outputs": [],
   "source": [
    "import matplotlib.pyplot as plt\n",
    "plt.matshow(attention[layer][0][head], cmap='gnuplot')"
   ]
  }
 ],
 "metadata": {
  "colab": {
   "collapsed_sections": [],
   "name": "model_view_bert_msmarco_aula.ipynb",
   "provenance": []
  },
  "kernelspec": {
   "display_name": "Tutorials (GPU)",
   "language": "python",
   "name": "tutorials"
  },
  "language_info": {
   "codemirror_mode": {
    "name": "ipython",
    "version": 3
   },
   "file_extension": ".py",
   "mimetype": "text/x-python",
   "name": "python",
   "nbconvert_exporter": "python",
   "pygments_lexer": "ipython3",
   "version": "3.9.16"
  },
  "toc-autonumbering": true,
  "toc-showmarkdowntxt": false
 },
 "nbformat": 4,
 "nbformat_minor": 4
}
